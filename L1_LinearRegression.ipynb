{
  "nbformat": 4,
  "nbformat_minor": 0,
  "metadata": {
    "colab": {
      "name": "L1-LinearRegression.ipynb",
      "provenance": [],
      "collapsed_sections": [],
      "toc_visible": true
    },
    "kernelspec": {
      "name": "python3",
      "display_name": "Python 3"
    }
  },
  "cells": [
    {
      "cell_type": "code",
      "metadata": {
        "id": "0GZ6R5_AMMwA",
        "colab_type": "code",
        "colab": {}
      },
      "source": [
        "import numpy as np"
      ],
      "execution_count": 0,
      "outputs": []
    },
    {
      "cell_type": "code",
      "metadata": {
        "id": "Rf7BwkFEMcci",
        "colab_type": "code",
        "colab": {}
      },
      "source": [
        "import pandas as pd"
      ],
      "execution_count": 0,
      "outputs": []
    },
    {
      "cell_type": "code",
      "metadata": {
        "id": "iO-PY6jpMeJw",
        "colab_type": "code",
        "colab": {}
      },
      "source": [
        "import matplotlib.pyplot as plt\n"
      ],
      "execution_count": 0,
      "outputs": []
    },
    {
      "cell_type": "code",
      "metadata": {
        "id": "Qz0sl8FnMfSt",
        "colab_type": "code",
        "colab": {}
      },
      "source": [
        "from google.colab import drive"
      ],
      "execution_count": 0,
      "outputs": []
    },
    {
      "cell_type": "code",
      "metadata": {
        "id": "ghiyEwxwNfAc",
        "colab_type": "code",
        "colab": {
          "base_uri": "https://localhost:8080/",
          "height": 121
        },
        "outputId": "7527cc9a-6f4d-41f9-f78a-836def841750"
      },
      "source": [
        "drive.mount(\"/content.gdrive\")"
      ],
      "execution_count": 6,
      "outputs": [
        {
          "output_type": "stream",
          "text": [
            "Go to this URL in a browser: https://accounts.google.com/o/oauth2/auth?client_id=947318989803-6bn6qk8qdgf4n4g3pfee6491hc0brc4i.apps.googleusercontent.com&redirect_uri=urn%3aietf%3awg%3aoauth%3a2.0%3aoob&response_type=code&scope=email%20https%3a%2f%2fwww.googleapis.com%2fauth%2fdocs.test%20https%3a%2f%2fwww.googleapis.com%2fauth%2fdrive%20https%3a%2f%2fwww.googleapis.com%2fauth%2fdrive.photos.readonly%20https%3a%2f%2fwww.googleapis.com%2fauth%2fpeopleapi.readonly\n",
            "\n",
            "Enter your authorization code:\n",
            "··········\n",
            "Mounted at /content.gdrive\n"
          ],
          "name": "stdout"
        }
      ]
    },
    {
      "cell_type": "code",
      "metadata": {
        "id": "YGhyKorjNu4y",
        "colab_type": "code",
        "colab": {
          "base_uri": "https://localhost:8080/",
          "height": 34
        },
        "outputId": "a854e83d-9092-4ec9-8129-71e550fe43e3"
      },
      "source": [
        "from google.colab import drive\n",
        "drive.mount('/content/drive')"
      ],
      "execution_count": 7,
      "outputs": [
        {
          "output_type": "stream",
          "text": [
            "Mounted at /content/drive\n"
          ],
          "name": "stdout"
        }
      ]
    },
    {
      "cell_type": "code",
      "metadata": {
        "id": "1NNo0Ii1NlRc",
        "colab_type": "code",
        "colab": {}
      },
      "source": [
        "data = pd.read_csv(\"/content/drive/My Drive/DeepLearningCoBan/DL_Tutorial-master/L1/data_linear.csv\")"
      ],
      "execution_count": 0,
      "outputs": []
    },
    {
      "cell_type": "code",
      "metadata": {
        "id": "_ENWJF4XO7ez",
        "colab_type": "code",
        "colab": {
          "base_uri": "https://localhost:8080/",
          "height": 935
        },
        "outputId": "efd4f1a3-b01b-4e52-d800-4534e34c9346"
      },
      "source": [
        "data"
      ],
      "execution_count": 11,
      "outputs": [
        {
          "output_type": "execute_result",
          "data": {
            "text/html": [
              "<div>\n",
              "<style scoped>\n",
              "    .dataframe tbody tr th:only-of-type {\n",
              "        vertical-align: middle;\n",
              "    }\n",
              "\n",
              "    .dataframe tbody tr th {\n",
              "        vertical-align: top;\n",
              "    }\n",
              "\n",
              "    .dataframe thead th {\n",
              "        text-align: right;\n",
              "    }\n",
              "</style>\n",
              "<table border=\"1\" class=\"dataframe\">\n",
              "  <thead>\n",
              "    <tr style=\"text-align: right;\">\n",
              "      <th></th>\n",
              "      <th>Diện tích</th>\n",
              "      <th>Giá</th>\n",
              "    </tr>\n",
              "  </thead>\n",
              "  <tbody>\n",
              "    <tr>\n",
              "      <th>0</th>\n",
              "      <td>30.0000</td>\n",
              "      <td>448.524</td>\n",
              "    </tr>\n",
              "    <tr>\n",
              "      <th>1</th>\n",
              "      <td>32.4138</td>\n",
              "      <td>509.248</td>\n",
              "    </tr>\n",
              "    <tr>\n",
              "      <th>2</th>\n",
              "      <td>34.8276</td>\n",
              "      <td>535.104</td>\n",
              "    </tr>\n",
              "    <tr>\n",
              "      <th>3</th>\n",
              "      <td>37.2414</td>\n",
              "      <td>551.432</td>\n",
              "    </tr>\n",
              "    <tr>\n",
              "      <th>4</th>\n",
              "      <td>39.6552</td>\n",
              "      <td>623.418</td>\n",
              "    </tr>\n",
              "    <tr>\n",
              "      <th>5</th>\n",
              "      <td>42.0690</td>\n",
              "      <td>625.992</td>\n",
              "    </tr>\n",
              "    <tr>\n",
              "      <th>6</th>\n",
              "      <td>44.4828</td>\n",
              "      <td>655.248</td>\n",
              "    </tr>\n",
              "    <tr>\n",
              "      <th>7</th>\n",
              "      <td>46.8966</td>\n",
              "      <td>701.377</td>\n",
              "    </tr>\n",
              "    <tr>\n",
              "      <th>8</th>\n",
              "      <td>49.3103</td>\n",
              "      <td>748.918</td>\n",
              "    </tr>\n",
              "    <tr>\n",
              "      <th>9</th>\n",
              "      <td>51.7241</td>\n",
              "      <td>757.881</td>\n",
              "    </tr>\n",
              "    <tr>\n",
              "      <th>10</th>\n",
              "      <td>54.1379</td>\n",
              "      <td>831.004</td>\n",
              "    </tr>\n",
              "    <tr>\n",
              "      <th>11</th>\n",
              "      <td>56.5517</td>\n",
              "      <td>855.409</td>\n",
              "    </tr>\n",
              "    <tr>\n",
              "      <th>12</th>\n",
              "      <td>58.9655</td>\n",
              "      <td>866.707</td>\n",
              "    </tr>\n",
              "    <tr>\n",
              "      <th>13</th>\n",
              "      <td>61.3793</td>\n",
              "      <td>902.545</td>\n",
              "    </tr>\n",
              "    <tr>\n",
              "      <th>14</th>\n",
              "      <td>63.7931</td>\n",
              "      <td>952.261</td>\n",
              "    </tr>\n",
              "    <tr>\n",
              "      <th>15</th>\n",
              "      <td>66.2069</td>\n",
              "      <td>995.531</td>\n",
              "    </tr>\n",
              "    <tr>\n",
              "      <th>16</th>\n",
              "      <td>68.6207</td>\n",
              "      <td>1069.780</td>\n",
              "    </tr>\n",
              "    <tr>\n",
              "      <th>17</th>\n",
              "      <td>71.0345</td>\n",
              "      <td>1074.420</td>\n",
              "    </tr>\n",
              "    <tr>\n",
              "      <th>18</th>\n",
              "      <td>73.4483</td>\n",
              "      <td>1103.880</td>\n",
              "    </tr>\n",
              "    <tr>\n",
              "      <th>19</th>\n",
              "      <td>75.8621</td>\n",
              "      <td>1138.690</td>\n",
              "    </tr>\n",
              "    <tr>\n",
              "      <th>20</th>\n",
              "      <td>78.2759</td>\n",
              "      <td>1153.130</td>\n",
              "    </tr>\n",
              "    <tr>\n",
              "      <th>21</th>\n",
              "      <td>80.6897</td>\n",
              "      <td>1240.270</td>\n",
              "    </tr>\n",
              "    <tr>\n",
              "      <th>22</th>\n",
              "      <td>83.1034</td>\n",
              "      <td>1251.900</td>\n",
              "    </tr>\n",
              "    <tr>\n",
              "      <th>23</th>\n",
              "      <td>85.5172</td>\n",
              "      <td>1287.970</td>\n",
              "    </tr>\n",
              "    <tr>\n",
              "      <th>24</th>\n",
              "      <td>87.9310</td>\n",
              "      <td>1320.470</td>\n",
              "    </tr>\n",
              "    <tr>\n",
              "      <th>25</th>\n",
              "      <td>90.3448</td>\n",
              "      <td>1374.920</td>\n",
              "    </tr>\n",
              "    <tr>\n",
              "      <th>26</th>\n",
              "      <td>92.7586</td>\n",
              "      <td>1410.160</td>\n",
              "    </tr>\n",
              "    <tr>\n",
              "      <th>27</th>\n",
              "      <td>95.1724</td>\n",
              "      <td>1469.690</td>\n",
              "    </tr>\n",
              "    <tr>\n",
              "      <th>28</th>\n",
              "      <td>97.5862</td>\n",
              "      <td>1478.540</td>\n",
              "    </tr>\n",
              "    <tr>\n",
              "      <th>29</th>\n",
              "      <td>100.0000</td>\n",
              "      <td>1515.280</td>\n",
              "    </tr>\n",
              "  </tbody>\n",
              "</table>\n",
              "</div>"
            ],
            "text/plain": [
              "    Diện tích       Giá\n",
              "0     30.0000   448.524\n",
              "1     32.4138   509.248\n",
              "2     34.8276   535.104\n",
              "3     37.2414   551.432\n",
              "4     39.6552   623.418\n",
              "5     42.0690   625.992\n",
              "6     44.4828   655.248\n",
              "7     46.8966   701.377\n",
              "8     49.3103   748.918\n",
              "9     51.7241   757.881\n",
              "10    54.1379   831.004\n",
              "11    56.5517   855.409\n",
              "12    58.9655   866.707\n",
              "13    61.3793   902.545\n",
              "14    63.7931   952.261\n",
              "15    66.2069   995.531\n",
              "16    68.6207  1069.780\n",
              "17    71.0345  1074.420\n",
              "18    73.4483  1103.880\n",
              "19    75.8621  1138.690\n",
              "20    78.2759  1153.130\n",
              "21    80.6897  1240.270\n",
              "22    83.1034  1251.900\n",
              "23    85.5172  1287.970\n",
              "24    87.9310  1320.470\n",
              "25    90.3448  1374.920\n",
              "26    92.7586  1410.160\n",
              "27    95.1724  1469.690\n",
              "28    97.5862  1478.540\n",
              "29   100.0000  1515.280"
            ]
          },
          "metadata": {
            "tags": []
          },
          "execution_count": 11
        }
      ]
    },
    {
      "cell_type": "code",
      "metadata": {
        "id": "PgPGe2rmPDIv",
        "colab_type": "code",
        "colab": {}
      },
      "source": [
        "data = data.values"
      ],
      "execution_count": 0,
      "outputs": []
    },
    {
      "cell_type": "code",
      "metadata": {
        "id": "02vLeibbPHyW",
        "colab_type": "code",
        "colab": {
          "base_uri": "https://localhost:8080/",
          "height": 521
        },
        "outputId": "4fc6c78b-9ede-4dfb-9459-375f6b45225f"
      },
      "source": [
        "data"
      ],
      "execution_count": 13,
      "outputs": [
        {
          "output_type": "execute_result",
          "data": {
            "text/plain": [
              "array([[  30.    ,  448.524 ],\n",
              "       [  32.4138,  509.248 ],\n",
              "       [  34.8276,  535.104 ],\n",
              "       [  37.2414,  551.432 ],\n",
              "       [  39.6552,  623.418 ],\n",
              "       [  42.069 ,  625.992 ],\n",
              "       [  44.4828,  655.248 ],\n",
              "       [  46.8966,  701.377 ],\n",
              "       [  49.3103,  748.918 ],\n",
              "       [  51.7241,  757.881 ],\n",
              "       [  54.1379,  831.004 ],\n",
              "       [  56.5517,  855.409 ],\n",
              "       [  58.9655,  866.707 ],\n",
              "       [  61.3793,  902.545 ],\n",
              "       [  63.7931,  952.261 ],\n",
              "       [  66.2069,  995.531 ],\n",
              "       [  68.6207, 1069.78  ],\n",
              "       [  71.0345, 1074.42  ],\n",
              "       [  73.4483, 1103.88  ],\n",
              "       [  75.8621, 1138.69  ],\n",
              "       [  78.2759, 1153.13  ],\n",
              "       [  80.6897, 1240.27  ],\n",
              "       [  83.1034, 1251.9   ],\n",
              "       [  85.5172, 1287.97  ],\n",
              "       [  87.931 , 1320.47  ],\n",
              "       [  90.3448, 1374.92  ],\n",
              "       [  92.7586, 1410.16  ],\n",
              "       [  95.1724, 1469.69  ],\n",
              "       [  97.5862, 1478.54  ],\n",
              "       [ 100.    , 1515.28  ]])"
            ]
          },
          "metadata": {
            "tags": []
          },
          "execution_count": 13
        }
      ]
    },
    {
      "cell_type": "code",
      "metadata": {
        "id": "-ZnNjxsHPImB",
        "colab_type": "code",
        "colab": {}
      },
      "source": [
        "N = data.shape"
      ],
      "execution_count": 0,
      "outputs": []
    },
    {
      "cell_type": "code",
      "metadata": {
        "id": "XXcFpSV6PUm9",
        "colab_type": "code",
        "colab": {
          "base_uri": "https://localhost:8080/",
          "height": 34
        },
        "outputId": "d45b4b3a-f6e2-4309-ffc3-618376e2d3ab"
      },
      "source": [
        "N"
      ],
      "execution_count": 15,
      "outputs": [
        {
          "output_type": "execute_result",
          "data": {
            "text/plain": [
              "(30, 2)"
            ]
          },
          "metadata": {
            "tags": []
          },
          "execution_count": 15
        }
      ]
    },
    {
      "cell_type": "code",
      "metadata": {
        "id": "QBroxrWRQAXz",
        "colab_type": "code",
        "colab": {}
      },
      "source": [
        ""
      ],
      "execution_count": 0,
      "outputs": []
    },
    {
      "cell_type": "code",
      "metadata": {
        "id": "vc7CkdiqPYl9",
        "colab_type": "code",
        "colab": {}
      },
      "source": [
        "N = N[0]"
      ],
      "execution_count": 0,
      "outputs": []
    },
    {
      "cell_type": "code",
      "metadata": {
        "id": "Y07viX43PbHD",
        "colab_type": "code",
        "colab": {
          "base_uri": "https://localhost:8080/",
          "height": 34
        },
        "outputId": "c75fc9f7-9322-4db5-8cde-2eb9a4814a32"
      },
      "source": [
        "N\n"
      ],
      "execution_count": 18,
      "outputs": [
        {
          "output_type": "execute_result",
          "data": {
            "text/plain": [
              "30"
            ]
          },
          "metadata": {
            "tags": []
          },
          "execution_count": 18
        }
      ]
    },
    {
      "cell_type": "code",
      "metadata": {
        "id": "yV8tyYKwPbyW",
        "colab_type": "code",
        "colab": {}
      },
      "source": [
        "x = data[:,0]"
      ],
      "execution_count": 0,
      "outputs": []
    },
    {
      "cell_type": "code",
      "metadata": {
        "id": "gX1WQ11FP8hL",
        "colab_type": "code",
        "colab": {
          "base_uri": "https://localhost:8080/",
          "height": 101
        },
        "outputId": "79af0871-3b0f-4f61-b2a4-1c51dff06d0f"
      },
      "source": [
        "x"
      ],
      "execution_count": 20,
      "outputs": [
        {
          "output_type": "execute_result",
          "data": {
            "text/plain": [
              "array([ 30.    ,  32.4138,  34.8276,  37.2414,  39.6552,  42.069 ,\n",
              "        44.4828,  46.8966,  49.3103,  51.7241,  54.1379,  56.5517,\n",
              "        58.9655,  61.3793,  63.7931,  66.2069,  68.6207,  71.0345,\n",
              "        73.4483,  75.8621,  78.2759,  80.6897,  83.1034,  85.5172,\n",
              "        87.931 ,  90.3448,  92.7586,  95.1724,  97.5862, 100.    ])"
            ]
          },
          "metadata": {
            "tags": []
          },
          "execution_count": 20
        }
      ]
    },
    {
      "cell_type": "code",
      "metadata": {
        "id": "V2_lfJT3P8_Z",
        "colab_type": "code",
        "colab": {
          "base_uri": "https://localhost:8080/",
          "height": 521
        },
        "outputId": "ade95a39-a448-47c1-c450-912d77132ad3"
      },
      "source": [
        "x.reshape(-1,1)"
      ],
      "execution_count": 21,
      "outputs": [
        {
          "output_type": "execute_result",
          "data": {
            "text/plain": [
              "array([[ 30.    ],\n",
              "       [ 32.4138],\n",
              "       [ 34.8276],\n",
              "       [ 37.2414],\n",
              "       [ 39.6552],\n",
              "       [ 42.069 ],\n",
              "       [ 44.4828],\n",
              "       [ 46.8966],\n",
              "       [ 49.3103],\n",
              "       [ 51.7241],\n",
              "       [ 54.1379],\n",
              "       [ 56.5517],\n",
              "       [ 58.9655],\n",
              "       [ 61.3793],\n",
              "       [ 63.7931],\n",
              "       [ 66.2069],\n",
              "       [ 68.6207],\n",
              "       [ 71.0345],\n",
              "       [ 73.4483],\n",
              "       [ 75.8621],\n",
              "       [ 78.2759],\n",
              "       [ 80.6897],\n",
              "       [ 83.1034],\n",
              "       [ 85.5172],\n",
              "       [ 87.931 ],\n",
              "       [ 90.3448],\n",
              "       [ 92.7586],\n",
              "       [ 95.1724],\n",
              "       [ 97.5862],\n",
              "       [100.    ]])"
            ]
          },
          "metadata": {
            "tags": []
          },
          "execution_count": 21
        }
      ]
    },
    {
      "cell_type": "code",
      "metadata": {
        "id": "8Yf1c9daQGJv",
        "colab_type": "code",
        "colab": {}
      },
      "source": [
        "y = data[:, 1].reshape(-1, 1) "
      ],
      "execution_count": 0,
      "outputs": []
    },
    {
      "cell_type": "code",
      "metadata": {
        "id": "L4DyNuX_QiXb",
        "colab_type": "code",
        "colab": {
          "base_uri": "https://localhost:8080/",
          "height": 521
        },
        "outputId": "a9a22d69-9e98-47a6-a0a6-edf35960834d"
      },
      "source": [
        "y"
      ],
      "execution_count": 23,
      "outputs": [
        {
          "output_type": "execute_result",
          "data": {
            "text/plain": [
              "array([[ 448.524],\n",
              "       [ 509.248],\n",
              "       [ 535.104],\n",
              "       [ 551.432],\n",
              "       [ 623.418],\n",
              "       [ 625.992],\n",
              "       [ 655.248],\n",
              "       [ 701.377],\n",
              "       [ 748.918],\n",
              "       [ 757.881],\n",
              "       [ 831.004],\n",
              "       [ 855.409],\n",
              "       [ 866.707],\n",
              "       [ 902.545],\n",
              "       [ 952.261],\n",
              "       [ 995.531],\n",
              "       [1069.78 ],\n",
              "       [1074.42 ],\n",
              "       [1103.88 ],\n",
              "       [1138.69 ],\n",
              "       [1153.13 ],\n",
              "       [1240.27 ],\n",
              "       [1251.9  ],\n",
              "       [1287.97 ],\n",
              "       [1320.47 ],\n",
              "       [1374.92 ],\n",
              "       [1410.16 ],\n",
              "       [1469.69 ],\n",
              "       [1478.54 ],\n",
              "       [1515.28 ]])"
            ]
          },
          "metadata": {
            "tags": []
          },
          "execution_count": 23
        }
      ]
    },
    {
      "cell_type": "code",
      "metadata": {
        "id": "XB96_iriQi6Z",
        "colab_type": "code",
        "colab": {
          "base_uri": "https://localhost:8080/",
          "height": 297
        },
        "outputId": "54b82849-0eaf-4848-9cc0-98135648d231"
      },
      "source": [
        "plt.scatter(x, y) \n",
        "plt.xlabel('mét vuông') \n",
        "plt.ylabel('giá')"
      ],
      "execution_count": 24,
      "outputs": [
        {
          "output_type": "execute_result",
          "data": {
            "text/plain": [
              "Text(0, 0.5, 'giá')"
            ]
          },
          "metadata": {
            "tags": []
          },
          "execution_count": 24
        },
        {
          "output_type": "display_data",
          "data": {
            "image/png": "[encoded data removed]",
            "text/plain": [
              "<Figure size 432x288 with 1 Axes>"
            ]
          },
          "metadata": {
            "tags": []
          }
        }
      ]
    },
    {
      "cell_type": "code",
      "metadata": {
        "id": "8bw3EfwXQqht",
        "colab_type": "code",
        "colab": {
          "base_uri": "https://localhost:8080/",
          "height": 521
        },
        "outputId": "16908293-577f-4d5f-8a1c-6ad33650a670"
      },
      "source": [
        "np.ones((N, 1))"
      ],
      "execution_count": 29,
      "outputs": [
        {
          "output_type": "execute_result",
          "data": {
            "text/plain": [
              "array([[1.],\n",
              "       [1.],\n",
              "       [1.],\n",
              "       [1.],\n",
              "       [1.],\n",
              "       [1.],\n",
              "       [1.],\n",
              "       [1.],\n",
              "       [1.],\n",
              "       [1.],\n",
              "       [1.],\n",
              "       [1.],\n",
              "       [1.],\n",
              "       [1.],\n",
              "       [1.],\n",
              "       [1.],\n",
              "       [1.],\n",
              "       [1.],\n",
              "       [1.],\n",
              "       [1.],\n",
              "       [1.],\n",
              "       [1.],\n",
              "       [1.],\n",
              "       [1.],\n",
              "       [1.],\n",
              "       [1.],\n",
              "       [1.],\n",
              "       [1.],\n",
              "       [1.],\n",
              "       [1.]])"
            ]
          },
          "metadata": {
            "tags": []
          },
          "execution_count": 29
        }
      ]
    },
    {
      "cell_type": "code",
      "metadata": {
        "id": "kmHvaaCFSvHW",
        "colab_type": "code",
        "colab": {
          "base_uri": "https://localhost:8080/",
          "height": 101
        },
        "outputId": "0b6905ee-b3d0-4c35-e4dd-0e1b0c7697e3"
      },
      "source": [
        "x"
      ],
      "execution_count": 30,
      "outputs": [
        {
          "output_type": "execute_result",
          "data": {
            "text/plain": [
              "array([ 30.    ,  32.4138,  34.8276,  37.2414,  39.6552,  42.069 ,\n",
              "        44.4828,  46.8966,  49.3103,  51.7241,  54.1379,  56.5517,\n",
              "        58.9655,  61.3793,  63.7931,  66.2069,  68.6207,  71.0345,\n",
              "        73.4483,  75.8621,  78.2759,  80.6897,  83.1034,  85.5172,\n",
              "        87.931 ,  90.3448,  92.7586,  95.1724,  97.5862, 100.    ])"
            ]
          },
          "metadata": {
            "tags": []
          },
          "execution_count": 30
        }
      ]
    },
    {
      "cell_type": "code",
      "metadata": {
        "id": "ZDDJ1WEfTWaT",
        "colab_type": "code",
        "colab": {}
      },
      "source": [
        "x = x.reshape(-1,1)"
      ],
      "execution_count": 0,
      "outputs": []
    },
    {
      "cell_type": "code",
      "metadata": {
        "id": "k7i1_k7TTiIQ",
        "colab_type": "code",
        "colab": {
          "base_uri": "https://localhost:8080/",
          "height": 521
        },
        "outputId": "478f0849-56df-4e8b-fd97-c39273a9c52b"
      },
      "source": [
        "x"
      ],
      "execution_count": 32,
      "outputs": [
        {
          "output_type": "execute_result",
          "data": {
            "text/plain": [
              "array([[ 30.    ],\n",
              "       [ 32.4138],\n",
              "       [ 34.8276],\n",
              "       [ 37.2414],\n",
              "       [ 39.6552],\n",
              "       [ 42.069 ],\n",
              "       [ 44.4828],\n",
              "       [ 46.8966],\n",
              "       [ 49.3103],\n",
              "       [ 51.7241],\n",
              "       [ 54.1379],\n",
              "       [ 56.5517],\n",
              "       [ 58.9655],\n",
              "       [ 61.3793],\n",
              "       [ 63.7931],\n",
              "       [ 66.2069],\n",
              "       [ 68.6207],\n",
              "       [ 71.0345],\n",
              "       [ 73.4483],\n",
              "       [ 75.8621],\n",
              "       [ 78.2759],\n",
              "       [ 80.6897],\n",
              "       [ 83.1034],\n",
              "       [ 85.5172],\n",
              "       [ 87.931 ],\n",
              "       [ 90.3448],\n",
              "       [ 92.7586],\n",
              "       [ 95.1724],\n",
              "       [ 97.5862],\n",
              "       [100.    ]])"
            ]
          },
          "metadata": {
            "tags": []
          },
          "execution_count": 32
        }
      ]
    },
    {
      "cell_type": "code",
      "metadata": {
        "id": "G4Ny0zB5Ti0E",
        "colab_type": "code",
        "colab": {}
      },
      "source": [
        "x = np.hstack((np.ones((N,1)), x))"
      ],
      "execution_count": 0,
      "outputs": []
    },
    {
      "cell_type": "code",
      "metadata": {
        "id": "N8Lb1nVjT0p_",
        "colab_type": "code",
        "colab": {
          "base_uri": "https://localhost:8080/",
          "height": 521
        },
        "outputId": "938d59e5-59e1-4994-f238-529df55d8f68"
      },
      "source": [
        "x"
      ],
      "execution_count": 35,
      "outputs": [
        {
          "output_type": "execute_result",
          "data": {
            "text/plain": [
              "array([[  1.    ,  30.    ],\n",
              "       [  1.    ,  32.4138],\n",
              "       [  1.    ,  34.8276],\n",
              "       [  1.    ,  37.2414],\n",
              "       [  1.    ,  39.6552],\n",
              "       [  1.    ,  42.069 ],\n",
              "       [  1.    ,  44.4828],\n",
              "       [  1.    ,  46.8966],\n",
              "       [  1.    ,  49.3103],\n",
              "       [  1.    ,  51.7241],\n",
              "       [  1.    ,  54.1379],\n",
              "       [  1.    ,  56.5517],\n",
              "       [  1.    ,  58.9655],\n",
              "       [  1.    ,  61.3793],\n",
              "       [  1.    ,  63.7931],\n",
              "       [  1.    ,  66.2069],\n",
              "       [  1.    ,  68.6207],\n",
              "       [  1.    ,  71.0345],\n",
              "       [  1.    ,  73.4483],\n",
              "       [  1.    ,  75.8621],\n",
              "       [  1.    ,  78.2759],\n",
              "       [  1.    ,  80.6897],\n",
              "       [  1.    ,  83.1034],\n",
              "       [  1.    ,  85.5172],\n",
              "       [  1.    ,  87.931 ],\n",
              "       [  1.    ,  90.3448],\n",
              "       [  1.    ,  92.7586],\n",
              "       [  1.    ,  95.1724],\n",
              "       [  1.    ,  97.5862],\n",
              "       [  1.    , 100.    ]])"
            ]
          },
          "metadata": {
            "tags": []
          },
          "execution_count": 35
        }
      ]
    },
    {
      "cell_type": "code",
      "metadata": {
        "id": "yL_3jKQXT8Ez",
        "colab_type": "code",
        "colab": {}
      },
      "source": [
        "w = np.array([0.,1.]).reshape(-1,1)\n"
      ],
      "execution_count": 0,
      "outputs": []
    },
    {
      "cell_type": "code",
      "metadata": {
        "id": "I9Phgb3jUCDc",
        "colab_type": "code",
        "colab": {
          "base_uri": "https://localhost:8080/",
          "height": 50
        },
        "outputId": "a7874274-acec-482a-c83f-f124fddd2c1b"
      },
      "source": [
        "w"
      ],
      "execution_count": 37,
      "outputs": [
        {
          "output_type": "execute_result",
          "data": {
            "text/plain": [
              "array([[0.],\n",
              "       [1.]])"
            ]
          },
          "metadata": {
            "tags": []
          },
          "execution_count": 37
        }
      ]
    },
    {
      "cell_type": "code",
      "metadata": {
        "id": "Hegnk_C6UCxn",
        "colab_type": "code",
        "colab": {}
      },
      "source": [
        "numberIteration = 100"
      ],
      "execution_count": 0,
      "outputs": []
    },
    {
      "cell_type": "code",
      "metadata": {
        "id": "Ubhcc3AUUSB6",
        "colab_type": "code",
        "colab": {}
      },
      "source": [
        "cost = np.zeros((numberIteration,1))"
      ],
      "execution_count": 0,
      "outputs": []
    },
    {
      "cell_type": "code",
      "metadata": {
        "id": "VOgTFObBUZqK",
        "colab_type": "code",
        "colab": {}
      },
      "source": [
        "cost"
      ],
      "execution_count": 0,
      "outputs": []
    },
    {
      "cell_type": "code",
      "metadata": {
        "id": "jJddPvnoUai5",
        "colab_type": "code",
        "colab": {}
      },
      "source": [
        "learning_rate = 0.000001"
      ],
      "execution_count": 0,
      "outputs": []
    },
    {
      "cell_type": "code",
      "metadata": {
        "id": "x9nZEVwrWSo_",
        "colab_type": "code",
        "colab": {
          "base_uri": "https://localhost:8080/",
          "height": 1000
        },
        "outputId": "7e2813bf-6e28-4aa7-a453-38e902f36f9e"
      },
      "source": [
        "for i in range(1, numberIteration):\n",
        "  r  = np.dot(x, w) - y\n",
        "  cost[i] = 0.5*np.sum(r*r)\n",
        "  w[0] -= learning_rate*np.sum(r)\n",
        "  w[1] -=learning_rate*np.sum(np.multiply(r, x[:,1].reshape(-1,1)))\n",
        "  print(cost[i])"
      ],
      "execution_count": 42,
      "outputs": [
        {
          "output_type": "stream",
          "text": [
            "[13929872.64455245]\n",
            "[10306582.37422079]\n",
            "[7625999.18237673]\n",
            "[5642849.69326854]\n",
            "[4175675.71851866]\n",
            "[3090230.83195734]\n",
            "[2287196.82094014]\n",
            "[1693096.06938209]\n",
            "[1253568.35550934]\n",
            "[928396.89128833]\n",
            "[687828.48611463]\n",
            "[509851.12972016]\n",
            "[378179.89312088]\n",
            "[280766.8575313]\n",
            "[208698.72973386]\n",
            "[155381.27570385]\n",
            "[115935.94816237]\n",
            "[86753.4994753]\n",
            "[65163.7354763]\n",
            "[49191.19268689]\n",
            "[37374.38339803]\n",
            "[28632.06953731]\n",
            "[22164.32937972]\n",
            "[17379.36470576]\n",
            "[13839.35126131]\n",
            "[11220.37783611]\n",
            "[9282.80838638]\n",
            "[7849.35533562]\n",
            "[6788.85776037]\n",
            "[6004.28016513]\n",
            "[5423.83373397]\n",
            "[4994.40765352]\n",
            "[4676.70947326]\n",
            "[4441.66984614]\n",
            "[4267.78268312]\n",
            "[4139.13734594]\n",
            "[4043.96282366]\n",
            "[3973.55068504]\n",
            "[3921.4582571]\n",
            "[3882.91912046]\n",
            "[3854.40698198]\n",
            "[3833.3130189]\n",
            "[3817.70717153]\n",
            "[3806.16154282]\n",
            "[3797.61974572]\n",
            "[3791.30024382]\n",
            "[3786.62484071]\n",
            "[3783.16577503]\n",
            "[3780.60658031]\n",
            "[3778.71312826]\n",
            "[3777.31220606]\n",
            "[3776.27566738]\n",
            "[3775.50870698]\n",
            "[3774.94118601]\n",
            "[3774.52121437]\n",
            "[3774.21040269]\n",
            "[3773.98034975]\n",
            "[3773.81004376]\n",
            "[3773.68393976]\n",
            "[3773.59053729]\n",
            "[3773.52132808]\n",
            "[3773.47001751]\n",
            "[3773.43194874]\n",
            "[3773.4036765]\n",
            "[3773.38265195]\n",
            "[3773.36698937]\n",
            "[3773.3552937]\n",
            "[3773.34653282]\n",
            "[3773.33994316]\n",
            "[3773.33495981]\n",
            "[3773.33116485]\n",
            "[3773.32824908]\n",
            "[3773.32598375]\n",
            "[3773.32419963]\n",
            "[3773.32277153]\n",
            "[3773.32160681]\n",
            "[3773.32063694]\n",
            "[3773.31981124]\n",
            "[3773.31909219]\n",
            "[3773.31845205]\n",
            "[3773.31787028]\n",
            "[3773.3173317]\n",
            "[3773.31682507]\n",
            "[3773.31634209]\n",
            "[3773.31587659]\n",
            "[3773.31542403]\n",
            "[3773.31498104]\n",
            "[3773.31454514]\n",
            "[3773.31411448]\n",
            "[3773.3136877]\n",
            "[3773.31326379]\n",
            "[3773.312842]\n",
            "[3773.31242178]\n",
            "[3773.31200273]\n",
            "[3773.31158454]\n",
            "[3773.31116698]\n",
            "[3773.3107499]\n",
            "[3773.31033317]\n",
            "[3773.3099167]\n"
          ],
          "name": "stdout"
        }
      ]
    },
    {
      "cell_type": "code",
      "metadata": {
        "id": "wK2UwwjAYUA1",
        "colab_type": "code",
        "colab": {}
      },
      "source": [
        "predict = np.dot(x, w)"
      ],
      "execution_count": 0,
      "outputs": []
    },
    {
      "cell_type": "code",
      "metadata": {
        "id": "weeK0Excb7Q9",
        "colab_type": "code",
        "colab": {}
      },
      "source": [
        "  predict"
      ],
      "execution_count": 0,
      "outputs": []
    },
    {
      "cell_type": "code",
      "metadata": {
        "id": "p1f9BrCdb9bA",
        "colab_type": "code",
        "colab": {
          "base_uri": "https://localhost:8080/",
          "height": 280
        },
        "outputId": "3be1febe-1fa6-4683-985b-abc602efc39a"
      },
      "source": [
        "plt.scatter(x[:, 1].reshape(-1,1), y) \n",
        "plt.xlabel('mét vuông') \n",
        "plt.ylabel('giá')\n",
        "\n",
        "plt.plot((x[0][1], x[N-1][1]),(predict[0], predict[N-1]), 'r') \n",
        "plt.show()\n"
      ],
      "execution_count": 50,
      "outputs": [
        {
          "output_type": "display_data",
          "data": {
            "image/png": "[encoded data removed]",
            "text/plain": [
              "<Figure size 432x288 with 1 Axes>"
            ]
          },
          "metadata": {
            "tags": []
          }
        }
      ]
    },
    {
      "cell_type": "code",
      "metadata": {
        "id": "sUVlKPvdcgty",
        "colab_type": "code",
        "colab": {}
      },
      "source": [
        ""
      ],
      "execution_count": 0,
      "outputs": []
    }
  ]
}